{
  "nbformat": 4,
  "nbformat_minor": 0,
  "metadata": {
    "colab": {
      "name": "psac.ipynb",
      "provenance": [],
      "collapsed_sections": [],
      "authorship_tag": "ABX9TyOQsVo1Sph6yqXj1VKKU0Y6",
      "include_colab_link": true
    },
    "kernelspec": {
      "name": "python3",
      "display_name": "Python 3"
    },
    "language_info": {
      "name": "python"
    }
  },
  "cells": [
    {
      "cell_type": "markdown",
      "metadata": {
        "id": "view-in-github",
        "colab_type": "text"
      },
      "source": [
        "<a href=\"https://colab.research.google.com/github/Myhamof/PSAC/blob/main/psac.ipynb\" target=\"_parent\"><img src=\"https://colab.research.google.com/assets/colab-badge.svg\" alt=\"Open In Colab\"/></a>"
      ]
    },
    {
      "cell_type": "markdown",
      "source": [
        "install requirements"
      ],
      "metadata": {
        "id": "ZGSNW_13k8hF"
      }
    },
    {
      "cell_type": "code",
      "source": [
        "pip install wand\n",
        "!apt-get install libmagickwand-dev"
      ],
      "metadata": {
        "id": "glul5zlThiLw"
      },
      "execution_count": null,
      "outputs": []
    },
    {
      "cell_type": "markdown",
      "source": [
        "Run cell and upload the image you want as a profile picture, note that it must be called avatar.png (it doesn't have to be a png file jpg should work but you must rename the extension to png or the program will crash), you can also manually upload a picture, to use it add # before uploaded = files... and change the path to the image path, you can find it by right click on the image and select copy path, enjoy :)"
      ],
      "metadata": {
        "id": "v76j0kZ0lQdn"
      }
    },
    {
      "cell_type": "code",
      "execution_count": null,
      "metadata": {
        "id": "DSK7wZcxgj7c"
      },
      "outputs": [],
      "source": [
        "#ps4 profile picture creator\n",
        "from google.colab import files\n",
        "from wand import image\n",
        "def convert(filename):\n",
        "    #open image\n",
        "    with image.Image(filename=filename) as img:\n",
        "        #resize the original image to 440x440:\n",
        "        img.resize(440,440)\n",
        "        img.save(filename=filename)\n",
        "        #convert image to dds:\n",
        "        img.format = 'DXT5'\n",
        "        #resize image to 4 different sizes 440 x 440, 260 x 260, 128 x 128, 64 x 64:\n",
        "        img.resize(440, 440)\n",
        "        img.save(filename=filename.replace('.png', '440.dds'))\n",
        "        img.resize(260, 260)\n",
        "        img.save(filename=filename.replace('.png', '260.dds'))\n",
        "        img.resize(128, 128)\n",
        "        img.save(filename=filename.replace('.png', '128.dds'))\n",
        "        img.resize(64, 64)\n",
        "        img.save(filename=filename.replace('.png', '64.dds'))\n",
        "\n",
        "#ask user for the image location and call the function:\n",
        "uploaded = files.upload()\n",
        "convert('/content/avatar.png')"
      ]
    },
    {
      "cell_type": "markdown",
      "source": [
        "download all the picture as zip note that there will be some extara folder inside the zip file just ignore those you don't need them!"
      ],
      "metadata": {
        "id": "UHUiv46rpFf5"
      }
    },
    {
      "cell_type": "code",
      "source": [
        "!apt install zip unzip\n",
        "!rm -rf /content/sample_data\n",
        "!zip -r avatar.zip /content\n",
        "from google.colab import files\n",
        "files.download('avatar.zip')"
      ],
      "metadata": {
        "id": "rc8cD28TpNnK"
      },
      "execution_count": null,
      "outputs": []
    }
  ]
}
